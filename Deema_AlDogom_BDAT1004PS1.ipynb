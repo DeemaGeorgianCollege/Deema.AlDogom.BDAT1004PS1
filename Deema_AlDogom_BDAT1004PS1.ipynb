{
 "cells": [
  {
   "cell_type": "markdown",
   "id": "dcfbe1ff",
   "metadata": {},
   "source": [
    "Question 1 C#\n",
    "What data type is each of the following?\n"
   ]
  },
  {
   "cell_type": "code",
   "execution_count": null,
   "id": "54f64fb3",
   "metadata": {},
   "outputs": [],
   "source": [
    "#Q1\n",
    "Console.WriteLine(\"-------------Question1-------------\");\n",
    "var a = 5;\n",
    "Console.WriteLine(a.GetType());\n",
    "\n",
    "var b = 5.0;\n",
    "Console.WriteLine(b.GetType());\n",
    "\n",
    "var c = 5 > 1;\n",
    "Console.WriteLine(c.GetType());\n",
    "\n",
    "var d = '5';\n",
    "Console.WriteLine(d.GetType());\n",
    "\n",
    "var e = 5 * 2;\n",
    "Console.WriteLine(e.GetType());\n",
    "\n",
    "var f = '5' * 2;\n",
    "Console.WriteLine(f.GetType());\n",
    "\n",
    "var h = '5' + '2';\n",
    "Console.WriteLine(h.GetType());\n",
    "\n",
    "var i = 5 / 2;\n",
    "Console.WriteLine(i.GetType());\n",
    "\n",
    "var j = 5 % 2;\n",
    "Console.WriteLine(j.GetType());\n",
    "\n",
    "int[] k = { 5, 2, 1 };\n",
    "Console.WriteLine(k.GetType());\n",
    "\n",
    "var l = 5 == 3;\n",
    "Console.WriteLine(l.GetType());\n",
    "\n",
    "var m = 3.14;\n",
    "Console.WriteLine(m.GetType());"
   ]
  },
  {
   "cell_type": "markdown",
   "id": "96031e13",
   "metadata": {},
   "source": [
    "Question 2 C#\n",
    "Write (and evaluate) C# expressions that answer these questions:\n",
    "a. How many letters are there in 'Supercalifragilisticexpialidocious'?"
   ]
  },
  {
   "cell_type": "code",
   "execution_count": null,
   "id": "0430b150",
   "metadata": {},
   "outputs": [],
   "source": [
    "#Q2\n",
    "#A\n",
    "Console.WriteLine(\"-------------Question2  A -------------\");\n",
    "Console.WriteLine(\"Supercalifragilisticexpialidocious\".Length);"
   ]
  },
  {
   "cell_type": "markdown",
   "id": "f7fc83bb",
   "metadata": {},
   "source": [
    "b. Does 'Supercalifragilisticexpialidocious' contain 'ice' as a substring?"
   ]
  },
  {
   "cell_type": "code",
   "execution_count": null,
   "id": "c445c918",
   "metadata": {},
   "outputs": [],
   "source": [
    "#B\n",
    "Console.WriteLine(\"-------------Question2  B -------------\");\n",
    "string fullStr = \"'Supercalifragilisticexpialidocious\";\n",
    "string subStr = \"ice\";\n",
    "bool result = fullStr.Contains(subStr);\n",
    "Console.WriteLine($\"Does {fullStr} contain {subStr} as a substring? {result}\");"
   ]
  },
  {
   "cell_type": "markdown",
   "id": "5046c9d8",
   "metadata": {},
   "source": [
    "c. Which of the following words is the longest: \n",
    "Supercalifragilisticexpialidocious, Honorificabilitudinitatibus, or \n",
    "Bababadalgharaghtakamminarronnkonn?"
   ]
  },
  {
   "cell_type": "code",
   "execution_count": null,
   "id": "5e4f139a",
   "metadata": {},
   "outputs": [],
   "source": [
    "#C\n",
    "Console.WriteLine(\"-------------Question2  C -------------\");\n",
    "string[] s = { \"Supercalifragilisticexpialidocious\", \"Honorificabilitudinitatibus\", \"Bababadalgharaghtakamminarronnkonn\" };\n",
    "string longest = s.OrderByDescending(s => s.Length).First();\n",
    "Console.WriteLine($\"Longest word is: {longest}\");"
   ]
  },
  {
   "cell_type": "markdown",
   "id": "e3283b64",
   "metadata": {},
   "source": [
    "d. Which composer comes first in the dictionary: 'Berlioz', 'Borodin', 'Brian', \n",
    "'Bartok', 'Bellini', 'Buxtehude', 'Bernstein'. Which one comes last?"
   ]
  },
  {
   "cell_type": "code",
   "execution_count": null,
   "id": "0b8df497",
   "metadata": {},
   "outputs": [],
   "source": [
    "#D\n",
    "Console.WriteLine(\"-------------Question2  D -------------\");\n",
    "string[] composer = { \"Berlioz\", \"Borodin\", \"Brian\", \"Bartok\", \"Bellini\", \"Buxtehude\", \"Bernstein\" };\n",
    "var sortedComposers = composer.OrderBy(n => n);\n",
    "Console.WriteLine($\"Fisrt composer is {sortedComposers.First().ToString()}\");\n",
    "Console.WriteLine($\"Last composer is {sortedComposers.Last().ToString()}\");"
   ]
  },
  {
   "cell_type": "markdown",
   "id": "bdd5c8f9",
   "metadata": {},
   "source": [
    "Question 3 C#\n",
    "Implement function triangleArea(a,b,c) that takes as input the lengths of the 3 \n",
    "sides of a triangle and returns the area of the triangle. By Heron's formula, the area \n",
    "of a triangle with side lengths a, b, and c is s(s − a)(s −b)(s −c), where\n",
    "s = (a + b + c)/2."
   ]
  },
  {
   "cell_type": "code",
   "execution_count": null,
   "id": "9ca7cc3a",
   "metadata": {},
   "outputs": [],
   "source": [
    "#Q3\n",
    "Console.WriteLine(\"-------------Question3-------------\");\n",
    "void triangleArea(int a, int b, int c)\n",
    "{\n",
    "    double s = (a + b + c) / 2;\n",
    "    double area = Math.Sqrt(s*((s-a)*(s-b)*(s-c)));\n",
    "    Console.WriteLine($\"Triangle Area = {area}\");\n",
    "}\n",
    "\n",
    "triangleArea(2, 2, 2);"
   ]
  },
  {
   "cell_type": "markdown",
   "id": "ffcae930",
   "metadata": {},
   "source": [
    "Question 4 C#\n",
    "Write a program in C# Sharp to separate odd and even integers in separate arrays. \n",
    "Go to the editor\n",
    "Test Data :\n",
    "Input the number of elements to be stored in the array :5 \n",
    "Input 5 elements in the array :\n",
    "element - 0 : 25\n",
    "element - 1 : 47\n",
    "element - 2 : 42\n",
    "element - 3 : 56\n",
    "element - 4 : 32 "
   ]
  },
  {
   "cell_type": "code",
   "execution_count": null,
   "id": "6ea7752d",
   "metadata": {},
   "outputs": [],
   "source": [
    "#Q4\n",
    "Console.WriteLine(\"-------------Question4-------------\");\n",
    "int[] inputArr = new int[] { 25, 47, 42, 56, 32 };\n",
    "int[] evenArr = new int[5];\n",
    "int[] oddArr = new int[5];\n",
    "int x, y = 0, z = 0;\n",
    "\n",
    "for (x = 0; x < inputArr.Length; x++)\n",
    "{\n",
    "    if (inputArr[x] % 2 == 0)\n",
    "    {\n",
    "        evenArr[y] = inputArr[x];\n",
    "        y++;\n",
    "     }\n",
    "    else\n",
    "    {\n",
    "        oddArr[z] = inputArr[x];\n",
    "        z++;\n",
    "     }\n",
    "}\n",
    "\n",
    "Console.Write(\"The Even elements are : \\n\");\n",
    "for (x = 0; x < y; x++)\n",
    "{\n",
    "    Console.Write(\"{0} \", evenArr[x]);\n",
    "}\n",
    "\n",
    "Console.Write(\"\\nThe Odd elements are :\\n\");\n",
    "for (x = 0; x < z; x++)\n",
    "{\n",
    "    Console.Write(\"{0} \", oddArr[x]);\n",
    "}"
   ]
  },
  {
   "cell_type": "markdown",
   "id": "052fc52f",
   "metadata": {},
   "source": [
    "Question 5 C#\n",
    "a. Write a function inside(x,y,x1,y1,x2,y2) that returns True or False \n",
    "dependingonwhetherthepoint(x,y)liesintherectanglewithlowerleft \n",
    "corner (x1,y1) and upper right corner (x2,y2)."
   ]
  },
  {
   "cell_type": "code",
   "execution_count": null,
   "id": "5971dbda",
   "metadata": {},
   "outputs": [],
   "source": [
    "#Q5 A\n",
    "Console.WriteLine(\"-------------Question5-------------\");\n",
    "Console.Write(\"\\nfunction inside part a \\n\");\n",
    "static void inside(int xx, int yy, int x1, int y1, int x2, int y2)\n",
    "{\n",
    "    if (xx > x1 && xx < x2 && yy > y1 && yy < y2)\n",
    "        Console.WriteLine(\"True\");\n",
    "\n",
    "    else\n",
    "        Console.WriteLine(\"False\"); ;\n",
    "}\n",
    "\n",
    "int xx = 1, yy = 1, x1 = 0, y1 = 0, x2 = 2, y2 = 3;\n",
    "#int xx = -1, yy = -1, x1 = 0, y1 = 0, x2 = 2, y2 = 3;\n",
    "inside(xx, yy, x1, y1, x2, y2);"
   ]
  },
  {
   "cell_type": "code",
   "execution_count": null,
   "id": "1f41e0b2",
   "metadata": {},
   "outputs": [],
   "source": [
    "b. Use function inside()from part a. to write an expression that tests whether \n",
    "the point (1,1) lies in both of the following rectangles: one with lower left \n",
    "corner (0.3, 0.5) and upper right corner (1.1, 0.7) and the other with lower \n",
    "left corner (0.5, 0.2) and upper right corner (1.1, 2)"
   ]
  },
  {
   "cell_type": "code",
   "execution_count": null,
   "id": "563d25ed",
   "metadata": {},
   "outputs": [],
   "source": [
    "#Q5 B\n",
    "Console.Write(\"\\nfunction inside part b \\n\");\n",
    "static void inside2(double xx2, double yy2, double x12, double y12, double x22, double y22, double x122, double y122, double x222, double y222)\n",
    "{\n",
    "    if ((xx2 > x12 && xx2 < x22 && yy2 > y12 && yy2 < y22) && (xx2 > x122 && xx2 < x222 && yy2 > y122 && yy2 < y222))\n",
    "        Console.WriteLine(\"True\");\n",
    "\n",
    "    else\n",
    "        Console.WriteLine(\"False\"); ;\n",
    "}\n",
    "\n",
    "double xx2 = 1, yy2 = 1, x12 = 0.3, y12 = 0.5, x22 = 1.1, y22 = 0.7, x122 = 0.5, y122 = 0.2, x222 = 1.1, y222 = 2;\n",
    "inside2(xx2, yy2, x12, y12, x22, y22, x122, y122, x222, y222);"
   ]
  },
  {
   "cell_type": "markdown",
   "id": "2b617711",
   "metadata": {},
   "source": [
    "Question 6 Python\n",
    "You can turn a word into pig-Latin using the following two rules(simplified):\n",
    "• If the word starts with a consonant, move that letter to the end and append \n",
    "'ay'. For example, 'happy' becomes 'appyhay' and 'pencil' becomes 'encilpay'.\n",
    "• If the word starts with a vowel, simply append 'way' to the end of the word. \n",
    "For example, 'enter' becomes 'enterway' and 'other' becomes 'otherway' . For \n",
    "our purposes, there are 5 vowels: a, e, i, o, u (so we count y as a consonant).\n",
    "Write a function pig() that takes a word (i.e., a string) as input and returns its pig￾Latin form. Your function should still work if the input word contains upper case \n",
    "characters. Your output should always be lower case however"
   ]
  },
  {
   "cell_type": "code",
   "execution_count": 1,
   "id": "5c403165",
   "metadata": {},
   "outputs": [
    {
     "name": "stdout",
     "output_type": "stream",
     "text": [
      "Happy\n",
      "appyhay\n",
      "Enter\n",
      "enterway\n"
     ]
    }
   ],
   "source": [
    "#Q6\n",
    "def pig(text):\n",
    "  text = input().lower()\n",
    "  words = text.split()\n",
    "  latin = []\n",
    "  vowels = ['a','e','i','o','u']\n",
    "\n",
    "  for word in words:\n",
    "    for i in range(len(word)):\n",
    "        if word[0] in vowels:\n",
    "            latin.append(word + \"way\")\n",
    "            break\n",
    "        else:\n",
    "            word = word[1:] + word[0] + 'ay'\n",
    "            latin.append(word)\n",
    "            break\n",
    "\n",
    "  latin = ' '.join(latin)\n",
    "  print(latin)\n",
    "\n",
    "pig('Happy')\n",
    "pig('Enter')\n"
   ]
  },
  {
   "cell_type": "markdown",
   "id": "b313e994",
   "metadata": {},
   "source": [
    "Question 7 Python\n",
    "File bloodtype1.txt records blood-types of patients (A, B, AB, O or OO) at a clinic. \n",
    "Write a function bldcount() that reads the file with name name and reports (i.e., \n",
    "prints) how many patients there are in each bloodtype."
   ]
  },
  {
   "cell_type": "code",
   "execution_count": 3,
   "id": "e1d69999",
   "metadata": {},
   "outputs": [
    {
     "name": "stdout",
     "output_type": "stream",
     "text": [
      "There are 15 patients of blood type A\n",
      "There are 1 patients of blood type B\n",
      "There are 13 patients of blood type AB\n",
      "There are 15 patients of blood type O\n",
      "There are 0 patients of blood type OO\n"
     ]
    }
   ],
   "source": [
    "#Q7\n",
    "def bldcount(fileName):\n",
    "    A,B,O,AB,OO=0,0,0,0,0\n",
    "\n",
    "    infile = open(fileName)\n",
    "    content = infile.read()\n",
    "    infile.close()\n",
    "    list1 = content.split()\n",
    "    #print(list1)\n",
    "\n",
    "    for char in list1:\n",
    "            if char == 'A':\n",
    "                A+=1\n",
    "            elif char == 'B':\n",
    "                B+=1\n",
    "            elif char == 'O':\n",
    "                O+=1\n",
    "            elif char =='AB':\n",
    "                AB+=1\n",
    "            elif char == 'OO': \n",
    "                OO+=1\n",
    "\n",
    "    print(f'There are {A} patients of blood type A')\n",
    "    print(f'There are {B} patients of blood type B')\n",
    "    print(f'There are {AB} patients of blood type AB')\n",
    "    print(f'There are {O} patients of blood type O')\n",
    "    print(f'There are {OO} patients of blood type OO')\n",
    "\n",
    "bldcount('bloodtype1.txt')\n"
   ]
  },
  {
   "cell_type": "markdown",
   "id": "26857616",
   "metadata": {},
   "source": [
    "Question 8 Python\n",
    "Write a function curconv() that takes as input:\n",
    "1. a currency represented using a string (e.g., 'JPY' for the Japanese Yen or \n",
    "'EUR' for the Euro)\n",
    "2. an amount\n",
    "and then converts and returns the amount in US dollars"
   ]
  },
  {
   "cell_type": "code",
   "execution_count": 4,
   "id": "33db0487",
   "metadata": {},
   "outputs": [
    {
     "name": "stdout",
     "output_type": "stream",
     "text": [
      "122.96544\n",
      "1.241401\n"
     ]
    }
   ],
   "source": [
    "#Q8\n",
    "def curconv(curr,amount):\n",
    "    currencies = {}\n",
    "    \n",
    "    infile = open('currencies.txt')\n",
    "    content = infile.readlines()\n",
    "                  \n",
    "    for c in content:\n",
    "        currencies[c[:3].strip()] = c[4:].split(\"/t\")\n",
    "                  \n",
    "    value = currencies[curr][0].strip()\n",
    "    value = value.split()\n",
    "    print(float(value[0])*float(amount))\n",
    "                  \n",
    "curconv('EUR',100)\n",
    "curconv('JPY',100)"
   ]
  },
  {
   "cell_type": "markdown",
   "id": "1392836c",
   "metadata": {},
   "source": [
    "Question 9 Python\n",
    "Each of the following will cause an exception (an error). Identify what type of \n",
    "exception each will cause."
   ]
  },
  {
   "cell_type": "code",
   "execution_count": 5,
   "id": "64a6af63",
   "metadata": {},
   "outputs": [
    {
     "ename": "TypeError",
     "evalue": "unsupported operand type(s) for +: 'int' and 'str'",
     "output_type": "error",
     "traceback": [
      "\u001b[1;31m---------------------------------------------------------------------------\u001b[0m",
      "\u001b[1;31mTypeError\u001b[0m                                 Traceback (most recent call last)",
      "\u001b[1;32m~\\AppData\\Local\\Temp\\ipykernel_26152\\1187579658.py\u001b[0m in \u001b[0;36m<module>\u001b[1;34m\u001b[0m\n\u001b[0;32m      2\u001b[0m \u001b[1;31m#Trying to add incompatible variables, as in adding 6 + ‘a’\u001b[0m\u001b[1;33m\u001b[0m\u001b[1;33m\u001b[0m\u001b[0m\n\u001b[0;32m      3\u001b[0m \u001b[1;33m\u001b[0m\u001b[0m\n\u001b[1;32m----> 4\u001b[1;33m \u001b[0mprint\u001b[0m \u001b[1;33m(\u001b[0m \u001b[1;36m6\u001b[0m \u001b[1;33m+\u001b[0m \u001b[1;34m'a'\u001b[0m\u001b[1;33m)\u001b[0m\u001b[1;33m\u001b[0m\u001b[1;33m\u001b[0m\u001b[0m\n\u001b[0m",
      "\u001b[1;31mTypeError\u001b[0m: unsupported operand type(s) for +: 'int' and 'str'"
     ]
    }
   ],
   "source": [
    "#Q9\n",
    "#Trying to add incompatible variables, as in adding 6 + ‘a’\n",
    "\n",
    "print ( 6 + 'a')\n",
    "\n",
    "#Error: unsupported operand type(s) for +: 'int' and 'str'"
   ]
  },
  {
   "cell_type": "code",
   "execution_count": 7,
   "id": "19d552c4",
   "metadata": {},
   "outputs": [
    {
     "ename": "IndexError",
     "evalue": "list index out of range",
     "output_type": "error",
     "traceback": [
      "\u001b[1;31m---------------------------------------------------------------------------\u001b[0m",
      "\u001b[1;31mIndexError\u001b[0m                                Traceback (most recent call last)",
      "\u001b[1;32m~\\AppData\\Local\\Temp\\ipykernel_26152\\1509578779.py\u001b[0m in \u001b[0;36m<module>\u001b[1;34m\u001b[0m\n\u001b[0;32m      2\u001b[0m \u001b[1;31m#Referring to the 12th item of a list that has only 10 items\u001b[0m\u001b[1;33m\u001b[0m\u001b[1;33m\u001b[0m\u001b[0m\n\u001b[0;32m      3\u001b[0m \u001b[0mlist\u001b[0m \u001b[1;33m=\u001b[0m \u001b[1;33m[\u001b[0m\u001b[1;36m1\u001b[0m\u001b[1;33m,\u001b[0m\u001b[1;36m2\u001b[0m\u001b[1;33m,\u001b[0m\u001b[1;36m3\u001b[0m\u001b[1;33m,\u001b[0m\u001b[1;36m4\u001b[0m\u001b[1;33m,\u001b[0m\u001b[1;36m5\u001b[0m\u001b[1;33m,\u001b[0m\u001b[1;36m6\u001b[0m\u001b[1;33m,\u001b[0m\u001b[1;36m7\u001b[0m\u001b[1;33m,\u001b[0m\u001b[1;36m8\u001b[0m\u001b[1;33m,\u001b[0m\u001b[1;36m9\u001b[0m\u001b[1;33m,\u001b[0m\u001b[1;36m10\u001b[0m\u001b[1;33m]\u001b[0m\u001b[1;33m\u001b[0m\u001b[1;33m\u001b[0m\u001b[0m\n\u001b[1;32m----> 4\u001b[1;33m \u001b[0mprint\u001b[0m\u001b[1;33m(\u001b[0m\u001b[0mlist\u001b[0m\u001b[1;33m[\u001b[0m\u001b[1;36m12\u001b[0m\u001b[1;33m]\u001b[0m\u001b[1;33m)\u001b[0m\u001b[1;33m\u001b[0m\u001b[1;33m\u001b[0m\u001b[0m\n\u001b[0m",
      "\u001b[1;31mIndexError\u001b[0m: list index out of range"
     ]
    }
   ],
   "source": [
    "#Q9\n",
    "#Referring to the 12th item of a list that has only 10 items\n",
    "list = [1,2,3,4,5,6,7,8,9,10]\n",
    "print(list[12])\n",
    "\n",
    "#Error: list index out of range"
   ]
  },
  {
   "cell_type": "code",
   "execution_count": 8,
   "id": "905e10ab",
   "metadata": {},
   "outputs": [
    {
     "ename": "NameError",
     "evalue": "name 'math' is not defined",
     "output_type": "error",
     "traceback": [
      "\u001b[1;31m---------------------------------------------------------------------------\u001b[0m",
      "\u001b[1;31mNameError\u001b[0m                                 Traceback (most recent call last)",
      "\u001b[1;32m~\\AppData\\Local\\Temp\\ipykernel_26152\\1802855185.py\u001b[0m in \u001b[0;36m<module>\u001b[1;34m\u001b[0m\n\u001b[0;32m      1\u001b[0m \u001b[1;31m#Q9\u001b[0m\u001b[1;33m\u001b[0m\u001b[1;33m\u001b[0m\u001b[0m\n\u001b[0;32m      2\u001b[0m \u001b[1;31m#Using a value that is out ofrange for a function’s input, such as calling\u001b[0m\u001b[1;33m\u001b[0m\u001b[1;33m\u001b[0m\u001b[0m\n\u001b[1;32m----> 3\u001b[1;33m \u001b[0mmath\u001b[0m\u001b[1;33m.\u001b[0m\u001b[0msqrt\u001b[0m\u001b[1;33m(\u001b[0m\u001b[1;33m-\u001b[0m\u001b[1;36m1.0\u001b[0m\u001b[1;33m)\u001b[0m\u001b[1;33m\u001b[0m\u001b[1;33m\u001b[0m\u001b[0m\n\u001b[0m",
      "\u001b[1;31mNameError\u001b[0m: name 'math' is not defined"
     ]
    }
   ],
   "source": [
    "#Q9\n",
    "#Using a value that is out ofrange for a function’s input, such as calling\n",
    "math.sqrt(-1.0)\n",
    "\n",
    "#Error: name 'math' is not defined"
   ]
  },
  {
   "cell_type": "code",
   "execution_count": 9,
   "id": "a8a3f935",
   "metadata": {},
   "outputs": [
    {
     "ename": "NameError",
     "evalue": "name 'xaa' is not defined",
     "output_type": "error",
     "traceback": [
      "\u001b[1;31m---------------------------------------------------------------------------\u001b[0m",
      "\u001b[1;31mNameError\u001b[0m                                 Traceback (most recent call last)",
      "\u001b[1;32m~\\AppData\\Local\\Temp\\ipykernel_26152\\1104779501.py\u001b[0m in \u001b[0;36m<module>\u001b[1;34m\u001b[0m\n\u001b[0;32m      1\u001b[0m \u001b[1;31m#Q9\u001b[0m\u001b[1;33m\u001b[0m\u001b[1;33m\u001b[0m\u001b[0m\n\u001b[0;32m      2\u001b[0m \u001b[1;31m#Using an undeclared variable when x has not been defined\u001b[0m\u001b[1;33m\u001b[0m\u001b[1;33m\u001b[0m\u001b[0m\n\u001b[1;32m----> 3\u001b[1;33m \u001b[0mprint\u001b[0m\u001b[1;33m(\u001b[0m\u001b[0mxaa\u001b[0m\u001b[1;33m)\u001b[0m\u001b[1;33m\u001b[0m\u001b[1;33m\u001b[0m\u001b[0m\n\u001b[0m",
      "\u001b[1;31mNameError\u001b[0m: name 'xaa' is not defined"
     ]
    }
   ],
   "source": [
    "#Q9\n",
    "#Using an undeclared variable when x has not been defined\n",
    "print(xaa)\n",
    "\n",
    "#Error: name 'xaa' is not defined"
   ]
  },
  {
   "cell_type": "code",
   "execution_count": 10,
   "id": "e0d5617e",
   "metadata": {},
   "outputs": [
    {
     "ename": "FileNotFoundError",
     "evalue": "[Errno 2] No such file or directory: 'currencies1.txt'",
     "output_type": "error",
     "traceback": [
      "\u001b[1;31m---------------------------------------------------------------------------\u001b[0m",
      "\u001b[1;31mFileNotFoundError\u001b[0m                         Traceback (most recent call last)",
      "\u001b[1;32m~\\AppData\\Local\\Temp\\ipykernel_26152\\4166704960.py\u001b[0m in \u001b[0;36m<module>\u001b[1;34m\u001b[0m\n\u001b[0;32m      1\u001b[0m \u001b[1;31m#Q9\u001b[0m\u001b[1;33m\u001b[0m\u001b[1;33m\u001b[0m\u001b[0m\n\u001b[0;32m      2\u001b[0m \u001b[1;31m#Trying to open a file that does not exist, such as mistyping the file name or looking in the wrong directory.\u001b[0m\u001b[1;33m\u001b[0m\u001b[1;33m\u001b[0m\u001b[0m\n\u001b[1;32m----> 3\u001b[1;33m \u001b[0minfile\u001b[0m \u001b[1;33m=\u001b[0m \u001b[0mopen\u001b[0m\u001b[1;33m(\u001b[0m\u001b[1;34m'currencies1.txt'\u001b[0m\u001b[1;33m)\u001b[0m\u001b[1;33m\u001b[0m\u001b[1;33m\u001b[0m\u001b[0m\n\u001b[0m",
      "\u001b[1;31mFileNotFoundError\u001b[0m: [Errno 2] No such file or directory: 'currencies1.txt'"
     ]
    }
   ],
   "source": [
    "#Q9\n",
    "#Trying to open a file that does not exist, such as mistyping the file name or looking in the wrong directory.\n",
    "infile = open('currencies1.txt')\n",
    "\n",
    "#Error: No such file or directory: 'currencies1.txt'"
   ]
  },
  {
   "cell_type": "markdown",
   "id": "f8c96c72",
   "metadata": {},
   "source": [
    "Question 10 Python\n",
    "Encryption is the process of hiding the meaning of a text by substituting letters in the \n",
    "message with other letters, according to some system. If the process is successful, no \n",
    "one but the intended recipient can understand the encrypted message. Cryptanalysis \n",
    "refers to attempts to undo the encryption, even if some details of the encryption are \n",
    "unknown (for example, if an encrypted message has been intercepted). The first step \n",
    "of cryptanalysis is often to build up a table of letter frequencies in the encrypted text. \n",
    "Assume that the string letters is already defined as \n",
    "'abcdefghijklmnopqrstuvwxyz'. Write a function called frequencies() \n",
    "that takes a string as its only parameter, and returns a list of integers, showing the \n",
    "number of times each character appears in the text. Your function may ignore any \n",
    "characters that are not in letters"
   ]
  },
  {
   "cell_type": "code",
   "execution_count": 66,
   "id": "7a43e592",
   "metadata": {},
   "outputs": [
    {
     "name": "stdout",
     "output_type": "stream",
     "text": [
      "[1, 1, 1, 3, 5, 1, 1, 2, 1, 0, 1, 0, 1, 2, 4, 0, 1, 2, 0, 2, 1, 0, 1, 1, 0, 0]\n",
      "[1, 0, 0, 0, 1, 0, 0, 0, 0, 0, 0, 1, 0, 0, 0, 2, 0, 0, 0, 0, 0, 0, 0, 0, 0, 0]\n"
     ]
    }
   ],
   "source": [
    "def frequencies(text):\n",
    "    letters = 'abcdefghijklmnopqrstuvwxyz'\n",
    "    list1 = [0]*len(letters)\n",
    "    for char in text:\n",
    "        if char in letters:\n",
    "            index = letters.index(char)\n",
    "            list1[index]+=1\n",
    "    print(list1)\n",
    "frequencies('The quick red fox got bored and went home')\n",
    "frequencies('apple')"
   ]
  }
 ],
 "metadata": {
  "kernelspec": {
   "display_name": "Python 3 (ipykernel)",
   "language": "python",
   "name": "python3"
  },
  "language_info": {
   "codemirror_mode": {
    "name": "ipython",
    "version": 3
   },
   "file_extension": ".py",
   "mimetype": "text/x-python",
   "name": "python",
   "nbconvert_exporter": "python",
   "pygments_lexer": "ipython3",
   "version": "3.9.13"
  }
 },
 "nbformat": 4,
 "nbformat_minor": 5
}
